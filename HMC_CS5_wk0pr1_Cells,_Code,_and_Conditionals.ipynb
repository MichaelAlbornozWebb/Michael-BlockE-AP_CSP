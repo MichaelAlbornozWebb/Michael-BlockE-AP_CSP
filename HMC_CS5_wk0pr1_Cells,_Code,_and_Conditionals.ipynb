{
  "cells": [
    {
      "cell_type": "markdown",
      "metadata": {
        "id": "view-in-github",
        "colab_type": "text"
      },
      "source": [
        "<a href=\"https://colab.research.google.com/github/MichaelAlbornozWebb/Michael-BlockE-AP_CSP/blob/main/HMC_CS5_wk0pr1_Cells%2C_Code%2C_and_Conditionals.ipynb\" target=\"_parent\"><img src=\"https://colab.research.google.com/assets/colab-badge.svg\" alt=\"Open In Colab\"/></a>"
      ]
    },
    {
      "cell_type": "markdown",
      "metadata": {
        "id": "NoXM4SE7QVPh"
      },
      "source": [
        "# <b><font color=\"#f96d7b\"> Welcome to CS 5 Lab!  </font></b>\n",
        "\n",
        "_Introduction to ***Computer*** Science_\n",
        "\n",
        "\n",
        "### <font color=\"Coral\">Hi, _Webb!_ ... and Atwood! and Linde! and Case! ... and _everyone_ ! </font>\n",
        "\n",
        "If your dorm isn's here ... try changing your copy of this cell! 😀\n",
        "\n",
        "\n"
      ]
    },
    {
      "cell_type": "markdown",
      "metadata": {
        "id": "XYrs0QreNBM8"
      },
      "source": [
        "### <font color=\"DodgerBlue\"><b>Welcome to Python notebooks!</b></font>\n",
        "\n",
        "***Computing*** is a powerful technique for inquiry and discovery - in CS, in science and engineering, and in many fields across the liberal arts.\n",
        "\n",
        "This Python notebook interleaves descriptions with its computations. Both are hosted in ***cells***:\n",
        "   + _description cells_, like this cell, are in **markdown**, a widely-used language for <u>presenting</u> ideas\n",
        "   + _computation cells_, a bit further on, are in **Python**, a widely-used langauge for <u>executing</u> ideas\n",
        "\n",
        "In the following cells, you'll create a description with some details about yourself.\n",
        "\n",
        "In the cells after that, you'll read, run, and compose Python scripts (snippets)\n",
        "\n",
        "\n"
      ]
    },
    {
      "cell_type": "markdown",
      "metadata": {
        "id": "ki_QjFa6dkUY"
      },
      "source": [
        "### <font color=\"Red\"><b>Overview of Week0's Python Notebook</b> (this notebook)</font>\n",
        "\n",
        "This notebook itself offers examples and guidance for diving in to computing with Python and communicating with notebooks and markdown.\n",
        "\n",
        "This assignment, solo or with one partner, asks you to\n",
        "+ work through and try out the examples,\n",
        "+ answer questions that are interspersed\n",
        "+ write new cells, markdown or Python, as the challenges arise\n",
        "\n",
        "Specifically, there are several checkpoints in this notebook:\n",
        "1. when you complete an \"introduction\" markdown cell, about yourself\n",
        "2. when you have tried out and generated new data of various types\n",
        "3. when you have worked on the \"Four fours\" problem (finding all but 4!)\n",
        "4. when you've run and analyzed the first (very unfair) rock-paper-scissors example\n",
        "5. when you've created a fair - and complete - RPS example\n",
        "\n",
        "\n"
      ]
    },
    {
      "cell_type": "markdown",
      "metadata": {
        "id": "M7dzL4m4fPYf"
      },
      "source": [
        "# <font color=\"#f96d7b\">Make your own copy of this notebook</font>\n",
        "\n",
        "Click \"Save a copy in Drive\" under file. (Troubles? Let us know!)\n",
        "\n",
        "<br>\n",
        "\n",
        "With this starter notebook, you'll be able to read and run the content.\n",
        "But you won't be able to _edit_ until you have your own copy.\n",
        "\n",
        "So, to get started, make your own copy of this notebook:\n",
        "+ it will be stored in your space in Google Drive\n",
        "+ you'll need to use Google credentials to make a copy and run cells\n",
        "+ from there, you can edit, answer, and compose\n",
        "\n",
        "<br>\n",
        "\n",
        "<!--\n",
        "### Copy the url <i><font color=\"#f96d7b\">of your personal notebook-copy</font></i> here:\n",
        "\n",
        "<font size=\"+1\" color=\"DodgerBlue\"><tt>\n",
        "your URL!\n",
        "</tt></font>\n",
        "\n",
        "<br>\n",
        "<br>\n",
        "<br>\n",
        "-->\n",
        "\n",
        "### Submitting\n",
        "\n",
        "When you're ready to submit, be sure to\n",
        "+ **download** the .ipynb file of your new copied-and-edited notebook\n",
        "   + from the <i>file</i> menu:\n",
        "       + choose <b><i>Download</i></b> and then\n",
        "       + choose <b><i>Download .ipynb</i></b>\n",
        "   + The <i>.ipynb</i> extension is shorthand for \"ipython notebook\"\n",
        "+ Then, **submit** that downloaded file to [cs5's GradeScope submission site](https://www.gradescope.com/)"
      ]
    },
    {
      "cell_type": "markdown",
      "metadata": {
        "id": "SqlZ-RCK6jJV"
      },
      "source": [
        "# <font color=\"#f96d7b\"> Markdown cells </font>"
      ]
    },
    {
      "cell_type": "markdown",
      "metadata": {
        "id": "0e0JxCVbJY3C"
      },
      "source": [
        "### Your task\n",
        "\n",
        "The next few cells show a few example introductions...\n",
        "\n",
        "__Your task__ is to create a new markdown cell that answers the same questions as these...\n",
        "\n",
        "To edit the markdown cell, double click on the cell.\n",
        "\n",
        "If you're working in a team, create one for each person."
      ]
    },
    {
      "cell_type": "markdown",
      "metadata": {
        "id": "bvOcPiH26gpY"
      },
      "source": [
        "### <font color=\"DodgerBlue\"><b>Introduction: Zach</b></font>\n",
        "+ _Name_ ~  Zach Dodds\n",
        "+ _Link to image_ ~  [here, in Galileo at HMC](https://www.hmc.edu/admission/2022/02/28/faculty-profile-professor-of-computer-science-zach-dodds/)\n",
        "+ _School_ ~  Harvey Mudd College\n",
        "+ _Two favorite things_ ~  My favorite beverage is __coffee__ and one of my many favorite snacks are __poptarts__\n",
        "+ _Two least-favorite things_ ~  My least-favorite coffee is __decaf__ and my least-favorite poptarts-flavor is <b>[ranch dressing](https://www.kztv10.com/hidden-valley-ranch-flavored-pop-tarts-box-viral/)</b> [Not a real thing!]\n",
        "+ _Links to 4-6 things_ I find interesting/fun/inspiring/etc:\n",
        "   + The _past_  &nbsp;&nbsp; [13 billion years in 11 minutes](https://www.youtube.com/watch?v=TBikbn5XJhg)\n",
        "   + The _future_ &nbsp;&nbsp; [A googol years in 29 minutes](https://www.youtube.com/watch?v=uD4izuDMUQA&t=217s)\n",
        "   + The _present_  &nbsp;&nbsp; [A white blood cell squeezing through a blood vessel in 3 minutes](https://xvivo.com/examples/the-inner-life-of-the-cell/) <br>\n",
        "   + The [color-names page](https://www.w3schools.com/colors/colors_names.asp) where we found <font color=\"DodgerBlue\">DodgerBlue</font> and <font color=\"Coral\">Coral</font>\n",
        "   + The [reference on markdown](https://www.markdownguide.org/basic-syntax/) used to make this example!\n",
        "   + The chat bot that can actually chat: [ChatGPT](https://openai.com/blog/chatgpt/)  \n",
        "\n"
      ]
    },
    {
      "cell_type": "markdown",
      "metadata": {
        "id": "QNwjzF1czSez"
      },
      "source": [
        "### <font color=\"darkgold\"><b>Introduction: the Three-Eyed Alien</b></font>\n",
        "\n",
        "+ _Name_ ~  Three-eyed alien\n",
        "+ _Link to image_ ~ [these are actually my Disney cousins](https://toystory.disney.com/aliens)\n",
        "+ _School_ ~  all 5Cs -- and many more Cs around the universe!\n",
        "+ _Two favorite things_ ~  Favorite numbers are __42__ and __3__\n",
        "+ _Two least-favorite things_ ~   Really dislike __lack of space__ and __slower-than-light travel__\n",
        "+ _Links to 4-6 things_ that are interesting/fun/inspiring/etc:\n",
        "   + I embrace our [monocular counterparts](https://en.wikipedia.org/wiki/Mike_Wazowski), but am skeptical about two-eyed beings\n",
        "   + Seeking more eyes? Here's [one opportunity](https://www.ebay.com/itm/403933089298) &nbsp;\n",
        "   + When in MN, we celebrate its [local museums](https://www.spam.com/museum)\n",
        "   + [Fish n Chips poptarts!](https://www.pinterest.com/pin/486670303483830609/) &nbsp; Not sold to humans, I'm afraid...\n"
      ]
    },
    {
      "cell_type": "markdown",
      "metadata": {
        "id": "axrlZzixXIV1"
      },
      "source": [
        "### <font color=\"FireBrick\"><b>Introduction: You!</b></font>\n",
        "\n",
        "+ _Name_ ~  \n",
        "+ _Link to image_ ~\n",
        "+ _School_ ~\n",
        "+ _Two favorite things_ ~\n",
        "+ _Two least-favorite things_ ~\n",
        "+ _Links to 4-6 things_ that are interesting/fun/inspiring/etc:\n",
        "   + One...\n",
        "   + Two...\n",
        "   + and so on..."
      ]
    },
    {
      "cell_type": "markdown",
      "metadata": {
        "id": "YReRJVZLXUG0"
      },
      "source": [
        "### <font color=\"DodgerBlue\"><b>Introduction: You, two!  (if a team of two)</b></font>\n",
        "\n",
        "+ add another profile here, if you're a team of two!\n"
      ]
    },
    {
      "cell_type": "markdown",
      "metadata": {
        "id": "IHspQgMgdkbg"
      },
      "source": [
        "# <font color=\"#f96d7b\">Code cells</font>"
      ]
    },
    {
      "cell_type": "markdown",
      "metadata": {
        "id": "meZNmZg4CpfP"
      },
      "source": [
        "### <font color=\"#f96d7b\"><b>Code cells: &nbsp; <i>Executable</i> expression</b></font>\n",
        "\n",
        "The next section of this notebook demonstrates several *code cells* and invites you to try - and build - several of your own.\n",
        "\n",
        "This next cell holds a short, scripted conversation. Try it:\n",
        "\n",
        "(ChatGPT, it is not!)\n"
      ]
    },
    {
      "cell_type": "code",
      "execution_count": null,
      "metadata": {
        "id": "PX16cW1aLQq1"
      },
      "outputs": [],
      "source": [
        "# This is a code cell.\n",
        "# To run it, click play at left or type ctrl-enter (cmd-enter)\n",
        "\n",
        "\n",
        "answer = input(\"What is your name? \")\n",
        "print(\"Welcome,\", answer)\n",
        "print()\n",
        "\n",
        "print(\"My favorite number is 42, naturally.\")\n",
        "fav_num = input(\"What is your favorite number? \")\n",
        "print()\n",
        "\n",
        "print(\"Nice!\", fav_num, \"is solid. And very numeric!\")\n",
        "print(\"Plus, it's close to the best number, 42.\")"
      ]
    },
    {
      "cell_type": "markdown",
      "metadata": {
        "id": "yzbg8tydDRFF"
      },
      "source": [
        "### <font color=\"#f96d7b\"><b>Variables and <i>values</i></b></font>\n",
        "\n",
        "The above cell, when run, interacts with a user. Notice!\n",
        "+ The ``input`` function pauses for user input.\n",
        "+ The ``answer`` variable \"catches\" the user's input.\n",
        "+ The ``print`` function prints things!\n",
        "+ The single-equals-sign ``=`` is <u>assignment</u>\n",
        "   + it's <u><i>assigning</i></u> the left-side <i>variable</i> to be a name for the right-side <i>value</i>\n",
        "   + thus, the variable ``answer`` is a name for the user's input (what the user typed)\n",
        "   + and, the variable ``fav_num`` is a name for the next user input (what the user typed)\n"
      ]
    },
    {
      "cell_type": "markdown",
      "metadata": {
        "id": "D9PhlqFUbqkL"
      },
      "source": [
        "### <font color=\"#f96d7b\"><b><i>Variables</i> vs. <i>values</i></b></font>\n",
        "\n",
        "This is an important distinction: <i>variables</i> vs. <i>values</i>:\n",
        "+ Variables give names to values. For example,\n",
        "+ The ``answer`` variable gives the name ``answer`` to the user's first input.\n",
        "+ The ``fav_num`` variable gives the name ``fav_num`` to the user's second input.\n",
        "\n",
        "In the next cell, notice that ``fav_num`` continues to hold the user-input value:"
      ]
    },
    {
      "cell_type": "code",
      "execution_count": null,
      "metadata": {
        "id": "zfjuDVZSE6kd"
      },
      "outputs": [],
      "source": [
        "print(\"fav_num is\", fav_num)"
      ]
    },
    {
      "cell_type": "markdown",
      "metadata": {
        "id": "yKgcC7vqR_V7"
      },
      "source": [
        "### <font color=\"#f96d7b\"><b><i>Operators</i> and <i>Composition</i></b></font>\n",
        "\n",
        "CS usually means _Computer Science_\n",
        "\n",
        "However, CS is more accurately thought of as _Compositional Science_:\n",
        "+ Software/programs are collections of small behaviors, carefully composed together  \n",
        "+ Computers themselves are simply large compositions of smaller machines, each of which contributes to the whole\n",
        "\n",
        "The conceptual effort of CS is predominantly creating _compositions_\n",
        "+ Determining the pieces needed for the task at hand, then\n",
        "+ Assembling those pieces into the overall system desired\n",
        "\n",
        "<br>\n",
        "\n",
        "If CS is _Compositional Science_, let's dive in!\n",
        "\n",
        "We'll use the Four fours challenge.\n",
        "\n",
        "First, try out some example ___computations___:"
      ]
    },
    {
      "cell_type": "code",
      "execution_count": null,
      "metadata": {
        "id": "Bxj7vIZFYio3"
      },
      "outputs": [],
      "source": [
        "# This is a code-cell, which should be runnable with the arrow,\n",
        "# also with (control-enter) or (command-return)\n",
        "\n",
        "35 + 7"
      ]
    },
    {
      "cell_type": "code",
      "execution_count": null,
      "metadata": {
        "id": "MSbR9gE5Ym-W"
      },
      "outputs": [],
      "source": [
        "# Try running this cell to compute a googol\n",
        "# This is the number after which Google was named!\n",
        "\n",
        "10**100   # ** is power operator"
      ]
    },
    {
      "cell_type": "code",
      "execution_count": null,
      "metadata": {
        "id": "_5uXKX2KYyjk"
      },
      "outputs": [],
      "source": [
        "# This cell imports the math library and then runs a function from it.\n",
        "# (The square root of 4 is 2, as you'll see :-)\n",
        "\n",
        "from math import *    # imports the sqrt function and others\n",
        "sqrt(4)"
      ]
    },
    {
      "cell_type": "code",
      "execution_count": null,
      "metadata": {
        "id": "L6vcRkZWY1aL"
      },
      "outputs": [],
      "source": [
        "# Here is an example of the \"factorial\" function. factorial(4) is 1*2*3*4, which is 24\n",
        "\n",
        "factorial(4)     # also imported from the math library"
      ]
    },
    {
      "cell_type": "code",
      "source": [
        "1*2*3*4"
      ],
      "metadata": {
        "id": "6pcaQF7xRKTD"
      },
      "execution_count": null,
      "outputs": []
    },
    {
      "cell_type": "code",
      "execution_count": null,
      "metadata": {
        "id": "mVQwZMOyZel9",
        "colab": {
          "base_uri": "https://localhost:8080/"
        },
        "outputId": "48d674ed-1d30-4bb8-e571-5383ef933148"
      },
      "outputs": [
        {
          "output_type": "stream",
          "name": "stdout",
          "text": [
            "Zero is 0\n",
            "One is 1.0\n"
          ]
        }
      ],
      "source": [
        "# This cell shows how printing works. Try it!\n",
        "# It should print:   Zero is 0\n",
        "#             and:   One is 1.0           (.0 from the division: totally ok!)\n",
        "#\n",
        "# This also sets you up for the Four fours challenge...\n",
        "\n",
        "print(\"Zero is\", 4+4-4-4)\n",
        "print(\"One is\", 44/44)\n"
      ]
    },
    {
      "cell_type": "markdown",
      "source": [
        "### <font color=\"#f96d7b\">Onward to the Four Fours problem</font>\n",
        "\n",
        "This next problem is the first \"authored\" software in cs5.\n",
        "+ It is both collaborative, as noted.\n",
        "+ And your own, as noted.\n",
        "\n",
        "Before four four'ing - and to contextualize **all** of the computing you author in cs5 and cs courses across HMC and the 5Cs, we clarify the HMC and 5Cs' honor-code expectations -- and ask you to complete the CS appropriate-use form next."
      ],
      "metadata": {
        "id": "G8YJ-WnVrq7D"
      }
    },
    {
      "cell_type": "markdown",
      "source": [
        "## <font color=\"#f96d7b\"><b>We <3 the honor code.</b></font>\n",
        "\n",
        "The HMC and the Claremont Colleges' honor codes, of course, hold for CS work and activities as they do everywhere. Because HMC CS maintains a full set of hardware and software, accounts and services, and curricular resources, our department <b><i>clarifies how the honor code applies to those computing resources</i></b> with an appropriate-use policy.\n",
        "\n",
        "\n",
        "Thus, every student who takes a HMC CS course needs to complete this form:\n",
        "\n",
        "[CS appropriate-use policy (Google Form)](https://docs.google.com/forms/d/e/1FAIpQLSdTuGFf8_WMJUxZNLBm0GlGNddJieDbpjiyg2B-ozv_tjADmA/viewform?vc=0&c=0&w=1)\n",
        "\n",
        "Concerns? Let us know.\n",
        "\n",
        "<i>Forms filled? Ready for Fours? Preferably four of them?!</i>   \n",
        "\n",
        "Onward!"
      ],
      "metadata": {
        "id": "0deTirPhq8Oq"
      }
    },
    {
      "cell_type": "markdown",
      "metadata": {
        "id": "n8v3V2pNaMY0"
      },
      "source": [
        "### <font color=\"#f96d7b\"><b><i>Challenge</i>: Four fours</b></font>\n",
        "\n",
        "+ The challenge: add several more lines similar to the above line to compute values from `0` to `20` and then another \"decade\" of your choice\n",
        "  + you should compute the rest of the ***first decade***, from 0 to 10, without help from GenAI -- _but you don't have to go in order!_ &nbsp;&nbsp; **Skip around!!**\n",
        "  + usually, labs are AI-free. This lab asks you to create the first decade, from 0 to 10, without AI.\n",
        "  + For the ***second*** decade, from 11 to 20, this lab does invite you to use AI. Feel free to try it out! If you're in a groove, you might not want to -- it's _not_ required! You're welcome to use the built-in Colab AI (from Google), OpenAI's ChatGPT, or perhaps <a href=\"https://lmarena.ai/\">this head-to-head comparison of any two AIs you choose</a>. (For myself, I find it fun to have two sets of AI results to compare 😀 )\n",
        "  + <font size=\"-2\" color=\"Coral\"><b>Optional challenge</b></font> &nbsp;  <font size=\"-2\">If you find the four fours _deceptively addictive_, consider ***completing a third decade of your choice***  For example, 21 to 30 or 41 to 50. Using AI is ok here, but it's not very helpful!</font>\n",
        "  \n",
        "<br>\n",
        "\n",
        "+ You may use any of Python's arithmetic operations:\n",
        "  + `-`    subtraction or negation\n",
        "  + `*`    multiplication\n",
        "  + `/`    division\n",
        "  + `(   )`    parentheses for grouping\n",
        "  + `**`    power\n",
        "  + `sqrt(4)`   square root (see below)\n",
        "  + `factorial(4)`    factorial (see below)\n",
        "\n",
        "<br>\n",
        "\n",
        "#### <font color = \"Red\">hints and notes:</font>\n",
        "+ Results with decimals are totally OK &nbsp; <tt>1.0</tt> and <tt>1</tt> are both 1!\n",
        "+ You may also use 44 or 4.4, each of which count as two fours,\n",
        "+ or .4, which counts as one four.\n",
        "+ include the line `from math import sqrt, factorial`\n",
        "+ then, you can use `sqrt(4)` and `factorial(4)`\n",
        "\n",
        "#### desired results:\n",
        "Here are what the results, but not the source code, will look like.\n",
        "\n",
        "<code><pre>\n",
        "Zero is 0\n",
        "One is 1\n",
        "Two is 2\n",
        "Three is 3\n",
        "Four is 4\n",
        "Five is 5\n",
        "Six is 6\n",
        "Seven is 7\n",
        "Eight is 8\n",
        "Nine is 9\n",
        "Ten is 10\n",
        "Eleven is 11\n",
        "Twelve is 12\n",
        "Thirteen is 13\n",
        "Fourteen is 14\n",
        "Fifteen is 15\n",
        "Sixteen is 16\n",
        "Seventeen is 17\n",
        "Eighteen is 18\n",
        "Nineteen is 19\n",
        "Twenty is 20\n",
        "</pre></code>\n",
        "\n",
        "<br>\n",
        "<hr>\n",
        "<br>"
      ]
    },
    {
      "cell_type": "code",
      "execution_count": null,
      "metadata": {
        "id": "sKyO0_HEaXXs",
        "colab": {
          "base_uri": "https://localhost:8080/"
        },
        "outputId": "db060b5b-0994-460d-be52-3f1bac8eac13"
      },
      "outputs": [
        {
          "output_type": "stream",
          "name": "stdout",
          "text": [
            "Zero is 0\n",
            "One is 1.0\n",
            "Two is 12.0\n",
            "Seventeen is 15.0\n"
          ]
        }
      ],
      "source": [
        "#\n",
        "#  Here is a space for your explorations and solutions\n",
        "#       to the Four fours challenge.\n",
        "#\n",
        "# This will get you started.\n",
        "# Skipping around can be helpful!\n",
        "\n",
        "from math import sqrt, factorial\n",
        "\n",
        "print(\"Zero is\", 4+4-4-4)       # this line is a solution for 0\n",
        "print(\"One is\", (4/4) * (4/4))\n",
        "\n",
        "print(\"Two is\", factorial(4) / sqrt(4))   # this line is definitely not correct - yet!\n",
        "\n",
        "print(\"Seventeen is\", (4*4) - (4/4))              # also not true - but close...\n",
        "\n",
        "\n",
        "# Lots of room for more lines above!\n",
        "#\n",
        "# Caution: the \"four fours\" can be eerily addictive... ?!"
      ]
    },
    {
      "cell_type": "markdown",
      "source": [
        "Computing is more than arithmetic...\n",
        "\n",
        "It's transformations of ***all kinds*** of data:"
      ],
      "metadata": {
        "id": "g0vraste_a3z"
      }
    },
    {
      "cell_type": "markdown",
      "metadata": {
        "id": "3AJ4cFJsMAMs"
      },
      "source": [
        "### <font color=\"#f96d7b\"><b>Data</b></font>\n",
        "\n",
        "The Four fours challenge uses _only_ numeric data, stereotypical of computing.\n",
        "\n",
        "In general, however, data can be numeric or sequential.\n",
        "\n",
        "Here are the two most important examples of each:\n",
        "+ ``46``, ``42``, ``-40``, ``0``, and ``1000000000000`` are <i>integers</i>. Integers are a _numeric_ type.\n",
        "   + in Python they are of type <font color=\"darkred\"><b>``int``</b></font>\n",
        "+ ``3.14``, ``46.0``, ``-.001`` are <i>floating-point</i> values: numeric with a fractional part - even if that fractional part is zero.\n",
        "   + in Python these are of type <font color=\"darkred\"><b>``float``</b></font>\n",
        "+ ``\"claremont\"``, ``'Python'``, and ``\"ATG\"`` are <i>strings</i>. They are sequences of characters.\n",
        "   + Single-quotes ``'like this'`` and double-quotes ``\"like this\"`` are both ok and both equivalent.\n",
        "   + strings in Python are of type <font color=\"darkred\"><b>``str``</b></font>\n",
        "+ ``[4,6]``, ``[4,5,6]``, ``[ \"scripps\", \"pitzer\", \"cgu\" ]``, and ``[ [7,\"scripps\"], [6,\"pitzer\"], [3,\"cgu\"] ]`` are <i>lists</i>, sequences of anything at all...\n",
        "   + in Python they are of type <font color=\"darkred\"><b>``list``</b></font>\n",
        "\n",
        "The next cell provides working examples.\n",
        "\n",
        "The following cell asks you to create one of each -- with your own context added. :-)"
      ]
    },
    {
      "cell_type": "code",
      "execution_count": null,
      "metadata": {
        "id": "q1maiptdOM7E"
      },
      "outputs": [],
      "source": [
        "#\n",
        "# examples of the most important four types of data\n",
        "#   Numeric:     int, float\n",
        "#   Sequential:  str, list\n",
        "#\n",
        "\n",
        "print(\"Our examples:\")\n",
        "print()\n",
        "\n",
        "fav_num = 42      # an int\n",
        "twopi = 6.28      # a float\n",
        "\n",
        "inator_creator = 'Dr. Heinz Doofenshmirtz'  # a string\n",
        "L = [\"jan\", 31, \"feb\", 28, \"mar\", 31]       # a list, of ints and strings\n",
        "\n",
        "\n",
        "\n",
        "#\n",
        "# now, let's print them -- and print their types:\n",
        "#\n",
        "print(\"fav_num is\", fav_num)\n",
        "print(\"type(fav_num) is\", type(fav_num))\n",
        "print()  # prints a blank line\n",
        "\n",
        "print(\"twopi is\", twopi)\n",
        "print(\"type(twopi) is\", type(twopi))\n",
        "print()\n",
        "\n",
        "print(\"inator_creator is\", inator_creator)\n",
        "print(\"type(inator_creator) is\", type(inator_creator))\n",
        "print()\n",
        "\n",
        "print(\"L is\", L)\n",
        "print(\"type(L) is\", type(L))\n",
        "print()\n",
        "\n",
        "\n",
        "#\n",
        "# You'll notice that Python uses <class 'int'> instead of int, and so on...\n",
        "# No worries!\n",
        "#"
      ]
    },
    {
      "cell_type": "code",
      "execution_count": null,
      "metadata": {
        "id": "ZZ4wnCP5bx5u"
      },
      "outputs": [],
      "source": [
        "#\n",
        "# Here, create at least one example of int, float, str, and list data\n",
        "#\n",
        "#     + Feel free to copy-and-paste-then-edit from the above cell\n",
        "#\n",
        "#     + The objective is to try out variables, assignment, and printing\n",
        "#     + with your own names, data, etc.\n",
        "#\n",
        "#     + Try it out...  Creativity is the goal...\n",
        "#         Note: Grutors are Mudd's name for the students who grade assignments and hold tutoring hours.\n",
        "#         Feel free to let the Grutors - and me - learn something about you with this exercise!\n",
        "#\n",
        "#     + Errors?  Ask us - or whoever's next to you... :-)\n",
        "#\n",
        "\n",
        "print(\"Your examples of an int, float, str, and list:\")\n",
        "\n",
        "\n"
      ]
    },
    {
      "cell_type": "markdown",
      "metadata": {
        "id": "5s912UI0uUIQ"
      },
      "source": [
        "# <font color=\"#f96d7b\"><b>Conditionals and Rock-Paper-Scissors</b></font>\n",
        "\n",
        "### Conditionals are <i>Code Paths</i>\n",
        "\n",
        "In Python, all decisions are made through three keywords:\n",
        "+ ``if``, ``elif``, and ``else``  \n",
        "+ These allow you to make decisions based on the value of data\n",
        "+ And those decisions can direct code to take different actions.\n",
        "\n",
        "These control structures are called ***conditionals***\n",
        "\n",
        "As an example of a conditional control structure, try the following cell.\n",
        "\n",
        "It plays a very unfair (and fairly impolite) version of rock-paper-scissors:"
      ]
    },
    {
      "cell_type": "code",
      "source": [
        "comp = \"rock\"\n",
        "user = \"paper\"\n",
        "\n",
        "if comp == 'paper' and user == 'paper':\n",
        "    print('We tie. Try again?')\n",
        "\n",
        "elif comp == 'rock':\n",
        "\n",
        "    if user == 'scissors':\n",
        "        print('I win! *_*')\n",
        "    else:\n",
        "        print('You win. Aargh!')"
      ],
      "metadata": {
        "id": "wcPI5RwlYXxv"
      },
      "execution_count": null,
      "outputs": []
    },
    {
      "cell_type": "markdown",
      "source": [
        "### An _unfair_ example of rock-paper-scissors"
      ],
      "metadata": {
        "id": "TXqb2gM7NfGd"
      }
    },
    {
      "cell_type": "code",
      "execution_count": null,
      "metadata": {
        "id": "bQmbrQ3lxRSG"
      },
      "outputs": [],
      "source": [
        "# A very unfair game of rock-paper-scissors\n",
        "\n",
        "user_name = input(\"What is your name? \")\n",
        "print(\"Welcome,\", user_name, \"!\")\n",
        "print()\n",
        "\n",
        "print(\"I challenge you to rock-paper-scissors! Prepare to be vanquished!\")\n",
        "\n",
        "user_choice = input(\"Which do you choose? (rock/paper/scissors):\")\n",
        "print()\n",
        "\n",
        "if user_choice == \"rock\":\n",
        "  print(\"You chose\", user_choice)\n",
        "  print(\"But I chose paper...\")   # this doesn't seem fair...\n",
        "  print(\"My paper smothers your rock!\")\n",
        "\n",
        "elif user_choice == \"paper\":\n",
        "  print(\"You chose\", user_choice, \"?\")\n",
        "  print(\"Wow. You chose poorly! My Scissors cut your rock.\")\n",
        "  print(\"I win.\")\n",
        "\n",
        "else:         # for all other possibility\n",
        "  print(\"You chose\", user_choice, \"...\")\n",
        "  print('Tsk Tsk Tsk...')\n",
        "  print('My rock crushes your scissors!')\n",
        "\n",
        "print()\n",
        "print(\"Try again, if you dare...\")\n"
      ]
    },
    {
      "cell_type": "markdown",
      "metadata": {
        "id": "LVDqFSCqz_Qa"
      },
      "source": [
        "### <u><b>To Do</b></u>\n",
        "\n",
        "### Run the above cell several times...\n",
        "\n",
        "+ Try different inputs, including ``rock``, ``paper``, ``scissors``, and some others. Experiment!\n",
        "+ In each case, consider the results...\n",
        "\n",
        "\n",
        "\n",
        "\n",
        "\n"
      ]
    },
    {
      "cell_type": "markdown",
      "source": [
        "### <u><b>To Answer</b></u>\n",
        "\n",
        "Feel free to include your answers here, just after each question. (A couple of these are completed as examples.)\n",
        "\n",
        "+ EXAMPLE Q'n: In the above cell, which lines run when ``user_choice`` is equal to ``rock``?\n",
        "   + <b><font color=\"Sienna\">EXAMPLE Answer</font></b>:  \n",
        "    lines 13-15, the body of the ``if`` block, are run in this case"
      ],
      "metadata": {
        "id": "4jKB5PY3VoW5"
      }
    },
    {
      "cell_type": "markdown",
      "source": [
        "+ ACTUAL Q'n: In the above cell, which lines run when ``user_choice`` is equal to ``paper``?\n",
        "   + <b><font color=\"Sienna\">Answer</font></b>:"
      ],
      "metadata": {
        "id": "RgtMVxS3V4cA"
      }
    },
    {
      "cell_type": "markdown",
      "source": [
        "+ (this and the rest are also ACTUAL Q'ns) In the above cell, which lines run when ``user_choice`` is equal to ``Rock``?\n",
        "   + <b><font color=\"Sienna\">Answer</font></b>:"
      ],
      "metadata": {
        "id": "yUZYPhzBV9lR"
      }
    },
    {
      "cell_type": "markdown",
      "source": [
        "+ In the above cell, which lines run when ``user_choice`` is equal to ``POPTARTS!``?\n",
        "   + <b><font color=\"Sienna\">Answer</font></b>:"
      ],
      "metadata": {
        "id": "9gPEoqDGWDze"
      }
    },
    {
      "cell_type": "markdown",
      "source": [
        "+ EXAMPLE Q'n: &nbsp; If you delete just the ``if`` block (lines 12-15) entirely, how does the program's behavior change?\n",
        "   + <b><font color=\"Sienna\">EXAMPLE Answer</font></b>:  \n",
        "       This breaks the code: it's a syntax error to have an ``elif`` or an ``else`` without an initial ``if``!"
      ],
      "metadata": {
        "id": "60rEF6_wWJPr"
      }
    },
    {
      "cell_type": "markdown",
      "source": [
        "+ ACTUAL Q'n: &nbsp; What if you delete just the ``elif`` block (lines 17-19)?\n",
        "   + <b><font color=\"Sienna\">Answer</font></b>:"
      ],
      "metadata": {
        "id": "u5BG13h6WRG0"
      }
    },
    {
      "cell_type": "markdown",
      "source": [
        "+ What if you delete just the ``else`` block (lines 21-24)?\n",
        "   + <b><font color=\"Sienna\">Answer</font></b>:"
      ],
      "metadata": {
        "id": "AyxApMPPWZNG"
      }
    },
    {
      "cell_type": "markdown",
      "source": [
        "### <u><b>To Notice</b></u>\n",
        "\n",
        "+ In the above cell, notice that to **test** if a variable is equal to a value, Python uses two equal signs\n",
        "   + ``user_choice == \"rock\"`` is a <u>test</u>\n",
        "+ On the other hand, to **set** a variable to a value, Python uses one equal sign\n",
        "  + ``user_choice = input(\"Which?\")`` <i>sets</i> ``user_choice``. (It's not a test.)\n",
        "+ The **body** of each conditional block is indented. This is how Python knows when the block ends.\n",
        "   + When its indentation ends, so does that _block_ of code."
      ],
      "metadata": {
        "id": "jdVcIG03V1H1"
      }
    },
    {
      "cell_type": "markdown",
      "metadata": {
        "id": "b5Nkx_-LC0SM"
      },
      "source": [
        "# <font color=\"#f96d7b\"><b><i>Nested</i> Conditionals</b></font>\n",
        "\n",
        "That's it!\n",
        "\n",
        "Incredibly, that's all there is to know about conditionals!\n",
        "\n",
        "Although there is value to practicing further!\n",
        "\n",
        "<br><br>\n",
        "\n",
        "Even more incredibly, ***this is all that's needed for <u>any</u> computational decision-making at all***\n",
        "+ ``if``, ``elif``, and ``else`` are all that are needed\n",
        "+ Every conditional must begin with an ``if``. The ``elif`` and ``else`` blocks are optional.\n",
        "+ Sophistication, power, and intricacy are built through ***nesting***\n",
        "\n",
        "Below is a more sophisticated -- and more fair -- rock-paper-scissors example.\n",
        "\n",
        "It uses _nested_ conditionals to keep track of both the user's choice and the computer's choice.\n",
        "\n",
        "You'll see the line ``comp_choice = random.choice([\"rock\",\"paper\",\"scissors\"])``\n",
        "+ This line makes a random choice from the three options\n",
        "+ It assigns that choice to the variable ``comp_choice``\n",
        "+ We don't know which it's chosen!\n",
        "\n",
        "Try it out!"
      ]
    },
    {
      "cell_type": "code",
      "execution_count": null,
      "metadata": {
        "id": "0EGxVgVmIDOu"
      },
      "outputs": [],
      "source": [
        "#\n",
        "# A fairer but incomplete game of rock-paper-scissors\n",
        "#\n",
        "\n",
        "import random       # imports a library (named random)\n",
        "                    # for making random choices\n",
        "\n",
        "user_name = input(\"What is your name? \")\n",
        "print(\"Welcome,\", user_name, \"!\")\n",
        "print()\n",
        "\n",
        "print(\"Ready for RPS? Choose wisely!!\")\n",
        "user_choice = input(\"Which do you choose? (rock/paper/scissors):\")\n",
        "comp_choice = random.choice([\"rock\",\"paper\",\"scissors\"])\n",
        "print()\n",
        "\n",
        "# We print both choices\n",
        "print(\"You chose\", user_choice)\n",
        "print(\"  I chose\", comp_choice)\n",
        "print()\n",
        "\n",
        "\n",
        "# We can handle different possibilities with nested conditionals\n",
        "\n",
        "if user_choice == \"rock\":\n",
        "  if comp_choice == \"rock\":\n",
        "    print(\"Aargh! We tied (but my rock was rockier!)\")\n",
        "  elif comp_choice == \"paper\":\n",
        "    print(\"I win! My paper outclasses any rock!\")\n",
        "  else:\n",
        "    print('Alack! Your rock cast my scissors asunder.')\n",
        "\n",
        "else:\n",
        "\n",
        "  print(\"You have ventured into the unknown...\")\n",
        "  print(\"... but I probably won!!\")\n",
        "\n",
        "\n",
        "\n",
        "print()\n",
        "print(\"Try again!\")\n"
      ]
    },
    {
      "cell_type": "markdown",
      "metadata": {
        "id": "uMmkLijNKtFa"
      },
      "source": [
        "# <font color=\"#f96d7b\"><b>Your Task: a <i>real</i> RPS...</b></font>\n",
        "\n",
        "Above is a _start_ to an RPS program: &nbsp; It's fair, but incomplete.\n",
        "\n",
        "<br>\n",
        "\n",
        "Your task, in the cell below, is to write and test a complete, fair-playing RPS-like game:\n",
        "+ it should run and should handle at least three possibilities for the person and three for the computer\n",
        "+ they can be rock-paper-scissors or your own creatively-chosen options...\n",
        "+ you're invited to add creative/personalized dialog...\n",
        "\n",
        "<br>\n",
        "\n",
        "There are lots of extra possibilities, as well:\n",
        "+ create an RPS-variation of your own design\n",
        "   + There are several variants that involve bears.\n",
        "   + Perhaps bear-stag-sagehen? <i>Cecil?</i>\n",
        "   + You could have more than three options, e.g., [rock-paper-scissors-lizard-spock](https://www.youtube.com/watch?v=x5Q6-wMx-K8)\n",
        "+ use better/sharper dialog!\n",
        "+ include \"easter eggs\" - for example, different behavior if the name is recognized...\n",
        "   + With conditionals, there's no limit to the code-paths possible!\n",
        "\n",
        "<br>\n",
        "\n",
        "\n"
      ]
    },
    {
      "cell_type": "code",
      "execution_count": null,
      "metadata": {
        "id": "fcLcTxiwPAOQ"
      },
      "outputs": [],
      "source": [
        "#\n",
        "# Your fair, complete RPS or RPS-variant  (this cell)\n",
        "#\n",
        "#\n",
        "# Use the previous, unfair/incomplete examples as starting points and resources\n",
        "# and keep adding/fixing/creating from there... .\n",
        "#"
      ]
    },
    {
      "cell_type": "markdown",
      "source": [
        "### Looking for what's next ... ?\n",
        "+ the next problem <tt>hw0pr2</tt> &nbsp; will guide you to getting VSCode (file-editing) and Python (to run programs) working on your own machine\n",
        "+ after that, your Python <i>Adventure</i> awaits in <tt>hw0pr2if.py</tt>\n",
        "+ and then... <b><i><font color=\"DarkGreen\">Picobot</font></i></b>\n",
        "\n",
        "Here is a link back to the [CS5 landing page](https://www.cs.hmc.edu/twiki/bin/view/CS5/WebHome)"
      ],
      "metadata": {
        "id": "ZrQbTXYn7Kzv"
      }
    },
    {
      "cell_type": "markdown",
      "metadata": {
        "id": "rNHGo2zHWUuo"
      },
      "source": [
        "# <font color = \"DodgerBlue\"><B>Downloading...</B>\n",
        "\n",
        "To submit this lab, you should download this file:\n",
        "+ Go to Colab's _File_ menu and choose _Download .ipynb_\n",
        "\n",
        "# <font color = \"DodgerBlue\"><B>Gradescope...</B>\n",
        "\n",
        "Go to <a href=\"https://www.gradescope.com/\" target=\"_blank\">the Gradescope website</a>. Then,\n",
        "+ The gradescope coursecode is <b>4J2JX5</b>\n",
        "+ If you already have a Gradescope account, that's all you need!\n",
        "\n",
        "<br>\n",
        "\n",
        "If you **don't** have a gradescope account, here's what you'll need to fill out:\n",
        "+ Scroll down to the bottom &nbsp;&nbsp; <font size=\"-3\">perhaps noting the academic logo on the landing page 😺</font>\n",
        "\n",
        "<img src=\"https://www.cs.hmc.edu/~zdodds/gradescope_fall_2024.png\" height=\"350px\">\n",
        "\n",
        "<br>\n",
        "\n",
        "# <font color = \"DodgerBlue\"><B>Submitting...</B>\n",
        "\n",
        "Then, under hw0pr1 (also known as Lab0),\n",
        "+ submit the <tt>.ipynb</tt> file that you downloaded -- it will have your self-introduction in markdown, questions answered, code tried, four-fours brainstormed, and RPS program composed --\n",
        "+ upload it to the appropriate spot in Gradescope\n",
        "+ if it's by the end of Thursday and you came to lab, you'll receive full  credit, &nbsp;&nbsp; even if it's not entirely finished... <br> <font size=\"-3\"> You're _welcome_ to finish, but we also want lab to be \"time-boxed\" within two hours, so no need. There are other things, both cs and non-cs! 😀 </font>\n",
        "\n",
        "Remember that there is lots of support, including from our grutors during Labs, as well as lots of grutoring-hours support available...\n",
        "\n",
        "<br>\n",
        "\n",
        "The programming parts of CS5, especially this one, seek\n",
        "+ creativity/novelty\n",
        "+ personalization/individual context\n",
        "+ exploration,\n",
        "+ poptarts,  and\n",
        "+ _executable_ understanding\n",
        "   + this includes knowing + acknowledging if code runs or not...\n",
        "   + and, if not, a set of strategies to explore from there...\n",
        "\n",
        "This _executable_ understanding is why labs are AI-free -- with occasional exceptions, as you saw above.\n",
        "\n",
        "\n",
        "\n"
      ]
    },
    {
      "cell_type": "markdown",
      "source": [
        "## <font color=\"DodgerBlue\">Finished early?</font>\n",
        "\n",
        "If you finish lab early,\n",
        "+ be sure you've signed in\n",
        "+ you're free to head to other things\n",
        "+ or, of course, stay to work on more of the hw!\n",
        "\n",
        "<br>\n",
        "\n",
        "A question sometimes asked:\n",
        "\n",
        "<font color=\"teal\"><i>Could I simply keep joining the labs and grutoring hours -- <br> chatting with grutors, instructors, colleagues -- <br> getting help as needed -- <br> and finish all of cs5's hw that smoothly, every week?</i></font>\n",
        "\n",
        "<br>\n",
        "\n",
        "***Yes!***\n",
        "\n",
        "This works brilliantly in teams, too!"
      ],
      "metadata": {
        "id": "q704oq3y8AAo"
      }
    },
    {
      "cell_type": "code",
      "source": [],
      "metadata": {
        "id": "1I4ht3-2mwh0"
      },
      "execution_count": null,
      "outputs": []
    }
  ],
  "metadata": {
    "colab": {
      "provenance": [],
      "include_colab_link": true
    },
    "kernelspec": {
      "display_name": "Python 3",
      "name": "python3"
    },
    "language_info": {
      "name": "python"
    }
  },
  "nbformat": 4,
  "nbformat_minor": 0
}